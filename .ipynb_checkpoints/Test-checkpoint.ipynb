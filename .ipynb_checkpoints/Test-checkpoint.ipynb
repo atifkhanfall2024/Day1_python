{
 "cells": [
  {
   "cell_type": "markdown",
   "id": "de0ff713-99c2-4be5-b4a8-58264a986042",
   "metadata": {},
   "source": [
    "## to need above row we simply write A"
   ]
  },
  {
   "cell_type": "markdown",
   "id": "359175cd-ec49-48d2-a503-12f55206aba0",
   "metadata": {},
   "source": [
    "## to delete a row we simple press D two times"
   ]
  },
  {
   "cell_type": "code",
   "execution_count": 5,
   "id": "ffffa15b-4a7c-46a6-b390-0ac13007b13b",
   "metadata": {},
   "outputs": [
    {
     "data": {
      "text/plain": [
       "8"
      ]
     },
     "execution_count": 5,
     "metadata": {},
     "output_type": "execute_result"
    }
   ],
   "source": [
    "a=5+3\n",
    "a"
   ]
  },
  {
   "cell_type": "markdown",
   "id": "19e19cbf-8d67-4afb-81cf-1872223350e4",
   "metadata": {},
   "source": [
    "## now i we want to changes in code and run again then we need to restart the kernel with all rows"
   ]
  },
  {
   "cell_type": "code",
   "execution_count": null,
   "id": "c2729fd0-c837-4d2d-9d2e-4fd782bd38d0",
   "metadata": {},
   "outputs": [],
   "source": []
  }
 ],
 "metadata": {
  "kernelspec": {
   "display_name": "Python 3 (ipykernel)",
   "language": "python",
   "name": "python3"
  },
  "language_info": {
   "codemirror_mode": {
    "name": "ipython",
    "version": 3
   },
   "file_extension": ".py",
   "mimetype": "text/x-python",
   "name": "python",
   "nbconvert_exporter": "python",
   "pygments_lexer": "ipython3",
   "version": "3.12.7"
  }
 },
 "nbformat": 4,
 "nbformat_minor": 5
}
